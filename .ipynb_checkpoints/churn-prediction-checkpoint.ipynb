{
 "cells": [
  {
   "cell_type": "code",
   "execution_count": null,
   "metadata": {
    "execution": {
     "iopub.execute_input": "2021-10-25T11:51:58.821409Z",
     "iopub.status.busy": "2021-10-25T11:51:58.820214Z",
     "iopub.status.idle": "2021-10-25T11:51:59.322363Z",
     "shell.execute_reply": "2021-10-25T11:51:59.321201Z",
     "shell.execute_reply.started": "2021-10-25T11:51:58.820968Z"
    }
   },
   "outputs": [],
   "source": [
    "import pandas as pd\n",
    "import numpy as np\n",
    "import matplotlib.pyplot as plt\n",
    "import seaborn as sns\n",
    "from sklearn.metrics import accuracy_score,confusion_matrix\n",
    "from sklearn.model_selection import RandomizedSearchCV\n",
    "%matplotlib inline"
   ]
  },
  {
   "cell_type": "code",
   "execution_count": 3,
   "metadata": {
    "execution": {
     "iopub.execute_input": "2021-10-25T11:51:59.324786Z",
     "iopub.status.busy": "2021-10-25T11:51:59.324386Z",
     "iopub.status.idle": "2021-10-25T11:51:59.372225Z",
     "shell.execute_reply": "2021-10-25T11:51:59.370987Z",
     "shell.execute_reply.started": "2021-10-25T11:51:59.324751Z"
    }
   },
   "outputs": [],
   "source": [
    "df=pd.read_csv('WA_Fn-UseC_-Telco-Customer-Churn.csv')"
   ]
  },
  {
   "cell_type": "code",
   "execution_count": 4,
   "metadata": {
    "execution": {
     "iopub.execute_input": "2021-10-25T11:51:59.374533Z",
     "iopub.status.busy": "2021-10-25T11:51:59.374176Z",
     "iopub.status.idle": "2021-10-25T11:51:59.413435Z",
     "shell.execute_reply": "2021-10-25T11:51:59.412241Z",
     "shell.execute_reply.started": "2021-10-25T11:51:59.374505Z"
    }
   },
   "outputs": [
    {
     "data": {
      "text/html": [
       "<div>\n",
       "<style scoped>\n",
       "    .dataframe tbody tr th:only-of-type {\n",
       "        vertical-align: middle;\n",
       "    }\n",
       "\n",
       "    .dataframe tbody tr th {\n",
       "        vertical-align: top;\n",
       "    }\n",
       "\n",
       "    .dataframe thead th {\n",
       "        text-align: right;\n",
       "    }\n",
       "</style>\n",
       "<table border=\"1\" class=\"dataframe\">\n",
       "  <thead>\n",
       "    <tr style=\"text-align: right;\">\n",
       "      <th></th>\n",
       "      <th>customerID</th>\n",
       "      <th>gender</th>\n",
       "      <th>SeniorCitizen</th>\n",
       "      <th>Partner</th>\n",
       "      <th>Dependents</th>\n",
       "      <th>tenure</th>\n",
       "      <th>PhoneService</th>\n",
       "      <th>MultipleLines</th>\n",
       "      <th>InternetService</th>\n",
       "      <th>OnlineSecurity</th>\n",
       "      <th>...</th>\n",
       "      <th>DeviceProtection</th>\n",
       "      <th>TechSupport</th>\n",
       "      <th>StreamingTV</th>\n",
       "      <th>StreamingMovies</th>\n",
       "      <th>Contract</th>\n",
       "      <th>PaperlessBilling</th>\n",
       "      <th>PaymentMethod</th>\n",
       "      <th>MonthlyCharges</th>\n",
       "      <th>TotalCharges</th>\n",
       "      <th>Churn</th>\n",
       "    </tr>\n",
       "  </thead>\n",
       "  <tbody>\n",
       "    <tr>\n",
       "      <th>0</th>\n",
       "      <td>7590-VHVEG</td>\n",
       "      <td>Female</td>\n",
       "      <td>0</td>\n",
       "      <td>Yes</td>\n",
       "      <td>No</td>\n",
       "      <td>1</td>\n",
       "      <td>No</td>\n",
       "      <td>No phone service</td>\n",
       "      <td>DSL</td>\n",
       "      <td>No</td>\n",
       "      <td>...</td>\n",
       "      <td>No</td>\n",
       "      <td>No</td>\n",
       "      <td>No</td>\n",
       "      <td>No</td>\n",
       "      <td>Month-to-month</td>\n",
       "      <td>Yes</td>\n",
       "      <td>Electronic check</td>\n",
       "      <td>29.85</td>\n",
       "      <td>29.85</td>\n",
       "      <td>No</td>\n",
       "    </tr>\n",
       "    <tr>\n",
       "      <th>1</th>\n",
       "      <td>5575-GNVDE</td>\n",
       "      <td>Male</td>\n",
       "      <td>0</td>\n",
       "      <td>No</td>\n",
       "      <td>No</td>\n",
       "      <td>34</td>\n",
       "      <td>Yes</td>\n",
       "      <td>No</td>\n",
       "      <td>DSL</td>\n",
       "      <td>Yes</td>\n",
       "      <td>...</td>\n",
       "      <td>Yes</td>\n",
       "      <td>No</td>\n",
       "      <td>No</td>\n",
       "      <td>No</td>\n",
       "      <td>One year</td>\n",
       "      <td>No</td>\n",
       "      <td>Mailed check</td>\n",
       "      <td>56.95</td>\n",
       "      <td>1889.5</td>\n",
       "      <td>No</td>\n",
       "    </tr>\n",
       "    <tr>\n",
       "      <th>2</th>\n",
       "      <td>3668-QPYBK</td>\n",
       "      <td>Male</td>\n",
       "      <td>0</td>\n",
       "      <td>No</td>\n",
       "      <td>No</td>\n",
       "      <td>2</td>\n",
       "      <td>Yes</td>\n",
       "      <td>No</td>\n",
       "      <td>DSL</td>\n",
       "      <td>Yes</td>\n",
       "      <td>...</td>\n",
       "      <td>No</td>\n",
       "      <td>No</td>\n",
       "      <td>No</td>\n",
       "      <td>No</td>\n",
       "      <td>Month-to-month</td>\n",
       "      <td>Yes</td>\n",
       "      <td>Mailed check</td>\n",
       "      <td>53.85</td>\n",
       "      <td>108.15</td>\n",
       "      <td>Yes</td>\n",
       "    </tr>\n",
       "    <tr>\n",
       "      <th>3</th>\n",
       "      <td>7795-CFOCW</td>\n",
       "      <td>Male</td>\n",
       "      <td>0</td>\n",
       "      <td>No</td>\n",
       "      <td>No</td>\n",
       "      <td>45</td>\n",
       "      <td>No</td>\n",
       "      <td>No phone service</td>\n",
       "      <td>DSL</td>\n",
       "      <td>Yes</td>\n",
       "      <td>...</td>\n",
       "      <td>Yes</td>\n",
       "      <td>Yes</td>\n",
       "      <td>No</td>\n",
       "      <td>No</td>\n",
       "      <td>One year</td>\n",
       "      <td>No</td>\n",
       "      <td>Bank transfer (automatic)</td>\n",
       "      <td>42.30</td>\n",
       "      <td>1840.75</td>\n",
       "      <td>No</td>\n",
       "    </tr>\n",
       "    <tr>\n",
       "      <th>4</th>\n",
       "      <td>9237-HQITU</td>\n",
       "      <td>Female</td>\n",
       "      <td>0</td>\n",
       "      <td>No</td>\n",
       "      <td>No</td>\n",
       "      <td>2</td>\n",
       "      <td>Yes</td>\n",
       "      <td>No</td>\n",
       "      <td>Fiber optic</td>\n",
       "      <td>No</td>\n",
       "      <td>...</td>\n",
       "      <td>No</td>\n",
       "      <td>No</td>\n",
       "      <td>No</td>\n",
       "      <td>No</td>\n",
       "      <td>Month-to-month</td>\n",
       "      <td>Yes</td>\n",
       "      <td>Electronic check</td>\n",
       "      <td>70.70</td>\n",
       "      <td>151.65</td>\n",
       "      <td>Yes</td>\n",
       "    </tr>\n",
       "  </tbody>\n",
       "</table>\n",
       "<p>5 rows × 21 columns</p>\n",
       "</div>"
      ],
      "text/plain": [
       "   customerID  gender  SeniorCitizen Partner Dependents  tenure PhoneService  \\\n",
       "0  7590-VHVEG  Female              0     Yes         No       1           No   \n",
       "1  5575-GNVDE    Male              0      No         No      34          Yes   \n",
       "2  3668-QPYBK    Male              0      No         No       2          Yes   \n",
       "3  7795-CFOCW    Male              0      No         No      45           No   \n",
       "4  9237-HQITU  Female              0      No         No       2          Yes   \n",
       "\n",
       "      MultipleLines InternetService OnlineSecurity  ... DeviceProtection  \\\n",
       "0  No phone service             DSL             No  ...               No   \n",
       "1                No             DSL            Yes  ...              Yes   \n",
       "2                No             DSL            Yes  ...               No   \n",
       "3  No phone service             DSL            Yes  ...              Yes   \n",
       "4                No     Fiber optic             No  ...               No   \n",
       "\n",
       "  TechSupport StreamingTV StreamingMovies        Contract PaperlessBilling  \\\n",
       "0          No          No              No  Month-to-month              Yes   \n",
       "1          No          No              No        One year               No   \n",
       "2          No          No              No  Month-to-month              Yes   \n",
       "3         Yes          No              No        One year               No   \n",
       "4          No          No              No  Month-to-month              Yes   \n",
       "\n",
       "               PaymentMethod MonthlyCharges  TotalCharges Churn  \n",
       "0           Electronic check          29.85         29.85    No  \n",
       "1               Mailed check          56.95        1889.5    No  \n",
       "2               Mailed check          53.85        108.15   Yes  \n",
       "3  Bank transfer (automatic)          42.30       1840.75    No  \n",
       "4           Electronic check          70.70        151.65   Yes  \n",
       "\n",
       "[5 rows x 21 columns]"
      ]
     },
     "execution_count": 4,
     "metadata": {},
     "output_type": "execute_result"
    }
   ],
   "source": [
    "df.head()"
   ]
  },
  {
   "cell_type": "code",
   "execution_count": null,
   "metadata": {
    "execution": {
     "iopub.execute_input": "2021-10-25T11:51:59.416283Z",
     "iopub.status.busy": "2021-10-25T11:51:59.41556Z",
     "iopub.status.idle": "2021-10-25T11:51:59.57675Z",
     "shell.execute_reply": "2021-10-25T11:51:59.575866Z",
     "shell.execute_reply.started": "2021-10-25T11:51:59.416227Z"
    }
   },
   "outputs": [],
   "source": [
    "sns.countplot(data=df,x='Churn')"
   ]
  },
  {
   "cell_type": "code",
   "execution_count": null,
   "metadata": {
    "execution": {
     "iopub.execute_input": "2021-10-25T11:51:59.579007Z",
     "iopub.status.busy": "2021-10-25T11:51:59.578343Z",
     "iopub.status.idle": "2021-10-25T11:51:59.608869Z",
     "shell.execute_reply": "2021-10-25T11:51:59.607826Z",
     "shell.execute_reply.started": "2021-10-25T11:51:59.578954Z"
    }
   },
   "outputs": [],
   "source": [
    "df.describe().transpose()"
   ]
  },
  {
   "cell_type": "code",
   "execution_count": null,
   "metadata": {
    "execution": {
     "iopub.execute_input": "2021-10-25T11:51:59.610597Z",
     "iopub.status.busy": "2021-10-25T11:51:59.610262Z",
     "iopub.status.idle": "2021-10-25T11:51:59.642063Z",
     "shell.execute_reply": "2021-10-25T11:51:59.640928Z",
     "shell.execute_reply.started": "2021-10-25T11:51:59.61056Z"
    }
   },
   "outputs": [],
   "source": [
    "df.info()"
   ]
  },
  {
   "cell_type": "markdown",
   "metadata": {
    "execution": {
     "iopub.execute_input": "2021-08-12T04:43:12.553951Z",
     "iopub.status.busy": "2021-08-12T04:43:12.553303Z",
     "iopub.status.idle": "2021-08-12T04:43:12.560191Z",
     "shell.execute_reply": "2021-08-12T04:43:12.558826Z",
     "shell.execute_reply.started": "2021-08-12T04:43:12.553901Z"
    }
   },
   "source": [
    "## Data Visualization"
   ]
  },
  {
   "cell_type": "code",
   "execution_count": null,
   "metadata": {
    "execution": {
     "iopub.execute_input": "2021-10-25T11:51:59.643981Z",
     "iopub.status.busy": "2021-10-25T11:51:59.64361Z",
     "iopub.status.idle": "2021-10-25T11:51:59.658136Z",
     "shell.execute_reply": "2021-10-25T11:51:59.656978Z",
     "shell.execute_reply.started": "2021-10-25T11:51:59.643943Z"
    }
   },
   "outputs": [],
   "source": [
    "df.groupby('Churn')['gender'].value_counts()"
   ]
  },
  {
   "cell_type": "code",
   "execution_count": null,
   "metadata": {
    "execution": {
     "iopub.execute_input": "2021-10-25T11:51:59.660724Z",
     "iopub.status.busy": "2021-10-25T11:51:59.660357Z",
     "iopub.status.idle": "2021-10-25T11:51:59.851477Z",
     "shell.execute_reply": "2021-10-25T11:51:59.850429Z",
     "shell.execute_reply.started": "2021-10-25T11:51:59.660688Z"
    }
   },
   "outputs": [],
   "source": [
    "sns.countplot(x='Churn',data=df,hue='gender',palette=\"coolwarm_r\")"
   ]
  },
  {
   "cell_type": "markdown",
   "metadata": {},
   "source": [
    "The above graph shows up that gender is not a factor for churning of customers."
   ]
  },
  {
   "cell_type": "code",
   "execution_count": null,
   "metadata": {
    "execution": {
     "iopub.execute_input": "2021-10-25T11:51:59.855835Z",
     "iopub.status.busy": "2021-10-25T11:51:59.855507Z",
     "iopub.status.idle": "2021-10-25T11:52:00.065236Z",
     "shell.execute_reply": "2021-10-25T11:52:00.063945Z",
     "shell.execute_reply.started": "2021-10-25T11:51:59.855787Z"
    }
   },
   "outputs": [],
   "source": [
    "sns.countplot(x='Churn',data=df, hue='InternetService')"
   ]
  },
  {
   "cell_type": "markdown",
   "metadata": {},
   "source": [
    "From the above graph, we can see that the customers using Fiber Optics have churned the most."
   ]
  },
  {
   "cell_type": "code",
   "execution_count": null,
   "metadata": {
    "execution": {
     "iopub.execute_input": "2021-10-25T11:52:00.067887Z",
     "iopub.status.busy": "2021-10-25T11:52:00.067516Z",
     "iopub.status.idle": "2021-10-25T11:52:00.231391Z",
     "shell.execute_reply": "2021-10-25T11:52:00.230575Z",
     "shell.execute_reply.started": "2021-10-25T11:52:00.067854Z"
    }
   },
   "outputs": [],
   "source": [
    "sns.countplot(x='SeniorCitizen',data=df, hue='Churn')"
   ]
  },
  {
   "cell_type": "code",
   "execution_count": null,
   "metadata": {
    "execution": {
     "iopub.execute_input": "2021-10-25T11:52:00.233416Z",
     "iopub.status.busy": "2021-10-25T11:52:00.232823Z",
     "iopub.status.idle": "2021-10-25T11:52:00.423672Z",
     "shell.execute_reply": "2021-10-25T11:52:00.422308Z",
     "shell.execute_reply.started": "2021-10-25T11:52:00.233371Z"
    }
   },
   "outputs": [],
   "source": [
    "sns.countplot(x='Partner',data=df, hue='Churn')"
   ]
  },
  {
   "cell_type": "markdown",
   "metadata": {},
   "source": [
    "From the above graph, we can see that those who don't have partners have churned more than those who do."
   ]
  },
  {
   "cell_type": "code",
   "execution_count": null,
   "metadata": {
    "execution": {
     "iopub.execute_input": "2021-10-25T11:52:00.425923Z",
     "iopub.status.busy": "2021-10-25T11:52:00.425443Z",
     "iopub.status.idle": "2021-10-25T11:52:00.639659Z",
     "shell.execute_reply": "2021-10-25T11:52:00.638302Z",
     "shell.execute_reply.started": "2021-10-25T11:52:00.425876Z"
    }
   },
   "outputs": [],
   "source": [
    "sns.countplot(x='OnlineBackup',data=df, hue='Churn',palette='magma')"
   ]
  },
  {
   "cell_type": "markdown",
   "metadata": {},
   "source": [
    "We see that those who didn't have online backup churned more than those that did."
   ]
  },
  {
   "cell_type": "code",
   "execution_count": null,
   "metadata": {
    "execution": {
     "iopub.execute_input": "2021-10-25T11:52:00.641552Z",
     "iopub.status.busy": "2021-10-25T11:52:00.641248Z",
     "iopub.status.idle": "2021-10-25T11:52:01.021621Z",
     "shell.execute_reply": "2021-10-25T11:52:01.020913Z",
     "shell.execute_reply.started": "2021-10-25T11:52:00.641524Z"
    }
   },
   "outputs": [],
   "source": [
    "sns.countplot(x='TechSupport',data=df, hue='Churn',palette='viridis')"
   ]
  },
  {
   "cell_type": "markdown",
   "metadata": {},
   "source": [
    "From the above graph, we can see that those who don't have tech support have churned more than those who do."
   ]
  },
  {
   "cell_type": "code",
   "execution_count": null,
   "metadata": {
    "execution": {
     "iopub.execute_input": "2021-10-25T11:52:01.023228Z",
     "iopub.status.busy": "2021-10-25T11:52:01.022756Z",
     "iopub.status.idle": "2021-10-25T11:52:01.053968Z",
     "shell.execute_reply": "2021-10-25T11:52:01.052741Z",
     "shell.execute_reply.started": "2021-10-25T11:52:01.02318Z"
    }
   },
   "outputs": [],
   "source": [
    "df.info()"
   ]
  },
  {
   "cell_type": "code",
   "execution_count": null,
   "metadata": {
    "execution": {
     "iopub.execute_input": "2021-10-25T11:52:01.056213Z",
     "iopub.status.busy": "2021-10-25T11:52:01.055775Z",
     "iopub.status.idle": "2021-10-25T11:52:01.070976Z",
     "shell.execute_reply": "2021-10-25T11:52:01.07001Z",
     "shell.execute_reply.started": "2021-10-25T11:52:01.05617Z"
    }
   },
   "outputs": [],
   "source": [
    "df['tenure'].describe()"
   ]
  },
  {
   "cell_type": "code",
   "execution_count": null,
   "metadata": {
    "execution": {
     "iopub.execute_input": "2021-10-25T11:52:01.07403Z",
     "iopub.status.busy": "2021-10-25T11:52:01.072426Z",
     "iopub.status.idle": "2021-10-25T11:52:01.450002Z",
     "shell.execute_reply": "2021-10-25T11:52:01.448617Z",
     "shell.execute_reply.started": "2021-10-25T11:52:01.073974Z"
    }
   },
   "outputs": [],
   "source": [
    "ax = sns.histplot(x='tenure',hue='Churn', data = df,multiple='dodge')\n",
    "ax.set(xlabel=\"Tenure in Months\", ylabel = \"Count\")"
   ]
  },
  {
   "cell_type": "code",
   "execution_count": null,
   "metadata": {
    "execution": {
     "iopub.execute_input": "2021-10-25T11:52:01.451936Z",
     "iopub.status.busy": "2021-10-25T11:52:01.451553Z",
     "iopub.status.idle": "2021-10-25T11:52:01.801943Z",
     "shell.execute_reply": "2021-10-25T11:52:01.801077Z",
     "shell.execute_reply.started": "2021-10-25T11:52:01.451902Z"
    }
   },
   "outputs": [],
   "source": [
    "ax=sns.histplot(x='MonthlyCharges',hue='Churn',data=df,multiple='dodge')\n",
    "ax.set(xlabel=\"Monthly Charges in Dollars\", ylabel = \"Count\")"
   ]
  },
  {
   "cell_type": "code",
   "execution_count": null,
   "metadata": {
    "execution": {
     "iopub.execute_input": "2021-10-25T11:52:01.803234Z",
     "iopub.status.busy": "2021-10-25T11:52:01.802963Z",
     "iopub.status.idle": "2021-10-25T11:52:01.817771Z",
     "shell.execute_reply": "2021-10-25T11:52:01.81659Z",
     "shell.execute_reply.started": "2021-10-25T11:52:01.803207Z"
    }
   },
   "outputs": [],
   "source": [
    "pd.to_numeric(df['TotalCharges'],errors='coerce')"
   ]
  },
  {
   "cell_type": "code",
   "execution_count": null,
   "metadata": {
    "execution": {
     "iopub.execute_input": "2021-10-25T11:52:01.819733Z",
     "iopub.status.busy": "2021-10-25T11:52:01.819363Z",
     "iopub.status.idle": "2021-10-25T11:52:01.86444Z",
     "shell.execute_reply": "2021-10-25T11:52:01.86312Z",
     "shell.execute_reply.started": "2021-10-25T11:52:01.819698Z"
    }
   },
   "outputs": [],
   "source": [
    "df[df['TotalCharges']==' ']"
   ]
  },
  {
   "cell_type": "code",
   "execution_count": null,
   "metadata": {
    "execution": {
     "iopub.execute_input": "2021-10-25T11:52:01.866359Z",
     "iopub.status.busy": "2021-10-25T11:52:01.866038Z",
     "iopub.status.idle": "2021-10-25T11:52:01.874511Z",
     "shell.execute_reply": "2021-10-25T11:52:01.873398Z",
     "shell.execute_reply.started": "2021-10-25T11:52:01.866328Z"
    }
   },
   "outputs": [],
   "source": [
    "df['TotalCharges']=[20.2 if i==' ' else i for i in df['TotalCharges']]"
   ]
  },
  {
   "cell_type": "code",
   "execution_count": null,
   "metadata": {
    "execution": {
     "iopub.execute_input": "2021-10-25T11:52:01.876513Z",
     "iopub.status.busy": "2021-10-25T11:52:01.876173Z",
     "iopub.status.idle": "2021-10-25T11:52:01.911567Z",
     "shell.execute_reply": "2021-10-25T11:52:01.910312Z",
     "shell.execute_reply.started": "2021-10-25T11:52:01.876478Z"
    }
   },
   "outputs": [],
   "source": [
    "df.info()"
   ]
  },
  {
   "cell_type": "code",
   "execution_count": null,
   "metadata": {
    "execution": {
     "iopub.execute_input": "2021-10-25T11:52:01.913433Z",
     "iopub.status.busy": "2021-10-25T11:52:01.913126Z",
     "iopub.status.idle": "2021-10-25T11:52:01.924786Z",
     "shell.execute_reply": "2021-10-25T11:52:01.923438Z",
     "shell.execute_reply.started": "2021-10-25T11:52:01.913402Z"
    }
   },
   "outputs": [],
   "source": [
    "df['TotalCharges']=pd.to_numeric(df['TotalCharges'])"
   ]
  },
  {
   "cell_type": "code",
   "execution_count": null,
   "metadata": {
    "execution": {
     "iopub.execute_input": "2021-10-25T11:52:01.926775Z",
     "iopub.status.busy": "2021-10-25T11:52:01.926451Z",
     "iopub.status.idle": "2021-10-25T11:52:01.96201Z",
     "shell.execute_reply": "2021-10-25T11:52:01.960624Z",
     "shell.execute_reply.started": "2021-10-25T11:52:01.926746Z"
    }
   },
   "outputs": [],
   "source": [
    "df.info()"
   ]
  },
  {
   "cell_type": "code",
   "execution_count": null,
   "metadata": {
    "execution": {
     "iopub.execute_input": "2021-10-25T11:52:01.963777Z",
     "iopub.status.busy": "2021-10-25T11:52:01.963473Z",
     "iopub.status.idle": "2021-10-25T11:52:01.971169Z",
     "shell.execute_reply": "2021-10-25T11:52:01.970218Z",
     "shell.execute_reply.started": "2021-10-25T11:52:01.963749Z"
    }
   },
   "outputs": [],
   "source": [
    "df_copy=df.iloc[:,1:]"
   ]
  },
  {
   "cell_type": "code",
   "execution_count": null,
   "metadata": {
    "execution": {
     "iopub.execute_input": "2021-10-25T11:52:01.973455Z",
     "iopub.status.busy": "2021-10-25T11:52:01.97308Z",
     "iopub.status.idle": "2021-10-25T11:52:01.988039Z",
     "shell.execute_reply": "2021-10-25T11:52:01.987091Z",
     "shell.execute_reply.started": "2021-10-25T11:52:01.973423Z"
    }
   },
   "outputs": [],
   "source": [
    "conversion={'Yes':'1',\n",
    "            'No':'0'}"
   ]
  },
  {
   "cell_type": "code",
   "execution_count": null,
   "metadata": {
    "execution": {
     "iopub.execute_input": "2021-10-25T11:52:01.990268Z",
     "iopub.status.busy": "2021-10-25T11:52:01.98958Z",
     "iopub.status.idle": "2021-10-25T11:52:02.014193Z",
     "shell.execute_reply": "2021-10-25T11:52:02.013041Z",
     "shell.execute_reply.started": "2021-10-25T11:52:01.990219Z"
    }
   },
   "outputs": [],
   "source": [
    "df_copy['Churn']=df_copy['Churn'].map(conversion)\n",
    "df_copy['Partner']=df_copy['Partner'].map(conversion)\n",
    "df_copy['Dependents']=df_copy['Dependents'].map(conversion)\n",
    "df_copy['PhoneService']=df_copy['PhoneService'].map(conversion)\n",
    "df_copy['PaperlessBilling']=df_copy['PaperlessBilling'].map(conversion)"
   ]
  },
  {
   "cell_type": "code",
   "execution_count": null,
   "metadata": {
    "execution": {
     "iopub.execute_input": "2021-10-25T11:52:02.018534Z",
     "iopub.status.busy": "2021-10-25T11:52:02.018183Z",
     "iopub.status.idle": "2021-10-25T11:52:02.068685Z",
     "shell.execute_reply": "2021-10-25T11:52:02.067447Z",
     "shell.execute_reply.started": "2021-10-25T11:52:02.018499Z"
    }
   },
   "outputs": [],
   "source": [
    "df_copy['Churn']=pd.to_numeric(df_copy['Churn'])\n",
    "df_copy['Partner']=pd.to_numeric(df_copy['Partner'])\n",
    "df_copy['Dependents']=pd.to_numeric(df_copy['Dependents'])\n",
    "df_copy['PhoneService']=pd.to_numeric(df_copy['PhoneService'])\n",
    "df_copy['PaperlessBilling']=pd.to_numeric(df_copy['PaperlessBilling'])"
   ]
  },
  {
   "cell_type": "code",
   "execution_count": null,
   "metadata": {
    "execution": {
     "iopub.execute_input": "2021-10-25T11:52:02.070911Z",
     "iopub.status.busy": "2021-10-25T11:52:02.070534Z",
     "iopub.status.idle": "2021-10-25T11:52:02.097656Z",
     "shell.execute_reply": "2021-10-25T11:52:02.096789Z",
     "shell.execute_reply.started": "2021-10-25T11:52:02.070874Z"
    }
   },
   "outputs": [],
   "source": [
    "df_copy.head()"
   ]
  },
  {
   "cell_type": "code",
   "execution_count": null,
   "metadata": {
    "execution": {
     "iopub.execute_input": "2021-10-25T11:52:02.100149Z",
     "iopub.status.busy": "2021-10-25T11:52:02.099513Z",
     "iopub.status.idle": "2021-10-25T11:52:02.134522Z",
     "shell.execute_reply": "2021-10-25T11:52:02.133333Z",
     "shell.execute_reply.started": "2021-10-25T11:52:02.100111Z"
    }
   },
   "outputs": [],
   "source": [
    "df_copy.info()"
   ]
  },
  {
   "cell_type": "code",
   "execution_count": null,
   "metadata": {
    "execution": {
     "iopub.execute_input": "2021-10-25T11:52:02.13647Z",
     "iopub.status.busy": "2021-10-25T11:52:02.136126Z",
     "iopub.status.idle": "2021-10-25T11:52:02.176993Z",
     "shell.execute_reply": "2021-10-25T11:52:02.175865Z",
     "shell.execute_reply.started": "2021-10-25T11:52:02.136436Z"
    }
   },
   "outputs": [],
   "source": [
    "df_copy['Contract'].value_counts()\n",
    "df_copy['PaymentMethod'].value_counts()\n",
    "df_copy['InternetService'].value_counts()\n",
    "df_copy['MultipleLines'].value_counts()\n",
    "df_copy['OnlineBackup'].value_counts()\n",
    "df_copy['OnlineSecurity'].value_counts()\n",
    "df_copy['TechSupport'].value_counts()\n",
    "df_copy['StreamingMovies'].value_counts()\n",
    "df_copy['StreamingTV'].value_counts()\n",
    "df_copy['DeviceProtection'].value_counts()\n",
    "df_copy['gender'].value_counts()"
   ]
  },
  {
   "cell_type": "code",
   "execution_count": null,
   "metadata": {
    "execution": {
     "iopub.execute_input": "2021-10-25T11:52:02.178739Z",
     "iopub.status.busy": "2021-10-25T11:52:02.178381Z",
     "iopub.status.idle": "2021-10-25T11:52:02.18476Z",
     "shell.execute_reply": "2021-10-25T11:52:02.183731Z",
     "shell.execute_reply.started": "2021-10-25T11:52:02.178705Z"
    }
   },
   "outputs": [],
   "source": [
    "#gender=pd.get_dummies(df['gender'],prefix='sex',drop_first=True)\n",
    "#contract=pd.get_dummies(df['Contract'],prefix='contract',drop_first=True)\n",
    "#payment=pd.get_dummies(df['PaymentMethod'],prefix='payment',drop_first=True)\n",
    "#internet=pd.get_dummies(df['InternetService'],prefix='internet',drop_first=True)\n",
    "#mul_lines=pd.get_dummies(df['MultipleLines'],prefix='mul_lines',drop_first=True)\n",
    "#onlineb=pd.get_dummies(df['OnlineBackup'],prefix='bkup',drop_first=True)\n",
    "#onlines=pd.get_dummies(df['OnlineSecurity'],prefix='security',drop_first=True)\n",
    "#techs=pd.get_dummies(df['TechSupport'],prefix='tech',drop_first=True)\n",
    "#movies=pd.get_dummies(df['StreamingMovies'],prefix='movies',drop_first=True)\n",
    "#tv=pd.get_dummies(df['StreamingTV'],prefix='tv',drop_first=True)\n",
    "#protecc=pd.get_dummies(df['DeviceProtection'],prefix='protection',drop_first=True)"
   ]
  },
  {
   "cell_type": "code",
   "execution_count": null,
   "metadata": {
    "execution": {
     "iopub.execute_input": "2021-10-25T11:52:02.186605Z",
     "iopub.status.busy": "2021-10-25T11:52:02.186284Z",
     "iopub.status.idle": "2021-10-25T11:52:02.194956Z",
     "shell.execute_reply": "2021-10-25T11:52:02.194107Z",
     "shell.execute_reply.started": "2021-10-25T11:52:02.186574Z"
    }
   },
   "outputs": [],
   "source": [
    "#df=pd.concat([df,gender,contract,payment,internet,mul_lines,onlineb,onlines,techs,movies,tv,protecc],axis=1)"
   ]
  },
  {
   "cell_type": "code",
   "execution_count": null,
   "metadata": {
    "execution": {
     "iopub.execute_input": "2021-10-25T11:52:02.196292Z",
     "iopub.status.busy": "2021-10-25T11:52:02.195972Z",
     "iopub.status.idle": "2021-10-25T11:52:02.240629Z",
     "shell.execute_reply": "2021-10-25T11:52:02.239896Z",
     "shell.execute_reply.started": "2021-10-25T11:52:02.19625Z"
    }
   },
   "outputs": [],
   "source": [
    "df.head()"
   ]
  },
  {
   "cell_type": "code",
   "execution_count": null,
   "metadata": {
    "execution": {
     "iopub.execute_input": "2021-10-25T11:52:02.242059Z",
     "iopub.status.busy": "2021-10-25T11:52:02.241741Z",
     "iopub.status.idle": "2021-10-25T11:52:02.291294Z",
     "shell.execute_reply": "2021-10-25T11:52:02.29043Z",
     "shell.execute_reply.started": "2021-10-25T11:52:02.242031Z"
    }
   },
   "outputs": [],
   "source": [
    "df_copy=pd.get_dummies(df_copy,drop_first=True)\n",
    "df_copy.head()"
   ]
  },
  {
   "cell_type": "code",
   "execution_count": null,
   "metadata": {
    "execution": {
     "iopub.execute_input": "2021-10-25T11:52:02.292757Z",
     "iopub.status.busy": "2021-10-25T11:52:02.292329Z",
     "iopub.status.idle": "2021-10-25T11:52:02.298602Z",
     "shell.execute_reply": "2021-10-25T11:52:02.297871Z",
     "shell.execute_reply.started": "2021-10-25T11:52:02.292719Z"
    }
   },
   "outputs": [],
   "source": [
    "df_copy.columns.values"
   ]
  },
  {
   "cell_type": "code",
   "execution_count": null,
   "metadata": {
    "execution": {
     "iopub.execute_input": "2021-10-25T11:52:02.300144Z",
     "iopub.status.busy": "2021-10-25T11:52:02.299698Z",
     "iopub.status.idle": "2021-10-25T11:52:02.340839Z",
     "shell.execute_reply": "2021-10-25T11:52:02.339751Z",
     "shell.execute_reply.started": "2021-10-25T11:52:02.300114Z"
    }
   },
   "outputs": [],
   "source": [
    "plt.figure(figsize=(12,6))\n",
    "df_copy.corr()['Churn'].sort_values(ascending=False)"
   ]
  },
  {
   "cell_type": "code",
   "execution_count": null,
   "metadata": {
    "execution": {
     "iopub.execute_input": "2021-10-25T11:52:02.342464Z",
     "iopub.status.busy": "2021-10-25T11:52:02.342169Z",
     "iopub.status.idle": "2021-10-25T11:52:02.390983Z",
     "shell.execute_reply": "2021-10-25T11:52:02.389871Z",
     "shell.execute_reply.started": "2021-10-25T11:52:02.342436Z"
    }
   },
   "outputs": [],
   "source": [
    "df"
   ]
  },
  {
   "cell_type": "code",
   "execution_count": null,
   "metadata": {
    "execution": {
     "iopub.execute_input": "2021-10-25T11:52:02.392509Z",
     "iopub.status.busy": "2021-10-25T11:52:02.392226Z",
     "iopub.status.idle": "2021-10-25T11:52:02.429531Z",
     "shell.execute_reply": "2021-10-25T11:52:02.428497Z",
     "shell.execute_reply.started": "2021-10-25T11:52:02.392483Z"
    }
   },
   "outputs": [],
   "source": [
    "df_copy"
   ]
  },
  {
   "cell_type": "code",
   "execution_count": null,
   "metadata": {
    "execution": {
     "iopub.execute_input": "2021-10-25T11:52:02.431265Z",
     "iopub.status.busy": "2021-10-25T11:52:02.430933Z",
     "iopub.status.idle": "2021-10-25T11:52:02.436736Z",
     "shell.execute_reply": "2021-10-25T11:52:02.436022Z",
     "shell.execute_reply.started": "2021-10-25T11:52:02.431233Z"
    }
   },
   "outputs": [],
   "source": [
    "len(df)"
   ]
  },
  {
   "cell_type": "code",
   "execution_count": null,
   "metadata": {
    "execution": {
     "iopub.execute_input": "2021-10-25T11:52:02.438379Z",
     "iopub.status.busy": "2021-10-25T11:52:02.437974Z",
     "iopub.status.idle": "2021-10-25T11:52:02.599692Z",
     "shell.execute_reply": "2021-10-25T11:52:02.598406Z",
     "shell.execute_reply.started": "2021-10-25T11:52:02.438342Z"
    }
   },
   "outputs": [],
   "source": [
    "(df['InternetService'].value_counts()*100/len(df)).plot(kind='bar')"
   ]
  },
  {
   "cell_type": "code",
   "execution_count": null,
   "metadata": {
    "execution": {
     "iopub.execute_input": "2021-10-25T11:52:02.601959Z",
     "iopub.status.busy": "2021-10-25T11:52:02.601584Z",
     "iopub.status.idle": "2021-10-25T11:52:02.623864Z",
     "shell.execute_reply": "2021-10-25T11:52:02.622458Z",
     "shell.execute_reply.started": "2021-10-25T11:52:02.601927Z"
    }
   },
   "outputs": [],
   "source": [
    "df_copy.info()"
   ]
  },
  {
   "cell_type": "code",
   "execution_count": null,
   "metadata": {
    "execution": {
     "iopub.execute_input": "2021-10-25T11:52:02.625405Z",
     "iopub.status.busy": "2021-10-25T11:52:02.625116Z",
     "iopub.status.idle": "2021-10-25T11:52:02.63266Z",
     "shell.execute_reply": "2021-10-25T11:52:02.631768Z",
     "shell.execute_reply.started": "2021-10-25T11:52:02.625376Z"
    }
   },
   "outputs": [],
   "source": [
    "X=df_copy.drop('Churn',axis=1)\n",
    "y=df_copy['Churn']"
   ]
  },
  {
   "cell_type": "code",
   "execution_count": null,
   "metadata": {
    "execution": {
     "iopub.execute_input": "2021-10-25T11:52:02.635093Z",
     "iopub.status.busy": "2021-10-25T11:52:02.634379Z",
     "iopub.status.idle": "2021-10-25T11:52:02.673095Z",
     "shell.execute_reply": "2021-10-25T11:52:02.671883Z",
     "shell.execute_reply.started": "2021-10-25T11:52:02.635056Z"
    }
   },
   "outputs": [],
   "source": [
    "X"
   ]
  },
  {
   "cell_type": "code",
   "execution_count": null,
   "metadata": {
    "execution": {
     "iopub.execute_input": "2021-10-25T11:52:38.43839Z",
     "iopub.status.busy": "2021-10-25T11:52:38.437987Z",
     "iopub.status.idle": "2021-10-25T11:52:38.445225Z",
     "shell.execute_reply": "2021-10-25T11:52:38.444378Z",
     "shell.execute_reply.started": "2021-10-25T11:52:38.438357Z"
    }
   },
   "outputs": [],
   "source": [
    "X.columns.values"
   ]
  },
  {
   "cell_type": "code",
   "execution_count": null,
   "metadata": {},
   "outputs": [],
   "source": [
    "from sklearn.preprocessing import MinMaxScaler\n",
    "features = X.columns.values\n",
    "scaler = MinMaxScaler(feature_range = (0,1))\n",
    "scaler.fit(X)\n",
    "X = pd.DataFrame(scaler.transform(X))\n",
    "X.columns = features"
   ]
  },
  {
   "cell_type": "code",
   "execution_count": null,
   "metadata": {},
   "outputs": [],
   "source": [
    "X.head()"
   ]
  },
  {
   "cell_type": "code",
   "execution_count": null,
   "metadata": {},
   "outputs": [],
   "source": [
    "from sklearn.model_selection import train_test_split\n",
    "X_train, X_test, y_train, y_test = train_test_split(X, y, test_size=0.3, random_state=41)"
   ]
  },
  {
   "cell_type": "code",
   "execution_count": null,
   "metadata": {},
   "outputs": [],
   "source": [
    "from sklearn.linear_model import LogisticRegression \n",
    "logreg=LogisticRegression()"
   ]
  },
  {
   "cell_type": "code",
   "execution_count": null,
   "metadata": {},
   "outputs": [],
   "source": [
    "logreg.fit(X_train,y_train)"
   ]
  },
  {
   "cell_type": "code",
   "execution_count": null,
   "metadata": {},
   "outputs": [],
   "source": [
    "prediction_logreg=logreg.predict(X_test)\n",
    "print('Accuracy Score LogReg:',accuracy_score(y_test,prediction_logreg))"
   ]
  },
  {
   "cell_type": "code",
   "execution_count": null,
   "metadata": {},
   "outputs": [],
   "source": [
    "from sklearn.ensemble import RandomForestClassifier\n",
    "rf_c=RandomForestClassifier()"
   ]
  },
  {
   "cell_type": "code",
   "execution_count": null,
   "metadata": {},
   "outputs": [],
   "source": [
    "param_grid={'n_estimators':[int(x) for x in np.linspace(start=200,stop=1200,num=11)],\n",
    "            'max_features':['auto','sqrt'],\n",
    "            'max_depth':[int(x) for x in np.linspace(start=10,stop=100,num=11)],\n",
    "            'min_samples_leaf':[1,2,3,5],\n",
    "            'min_samples_split':[2,5,10,15]}"
   ]
  },
  {
   "cell_type": "code",
   "execution_count": null,
   "metadata": {},
   "outputs": [],
   "source": [
    "random_cv=RandomizedSearchCV(rf_c,param_grid,cv=3,verbose=2,random_state=42)"
   ]
  },
  {
   "cell_type": "code",
   "execution_count": null,
   "metadata": {},
   "outputs": [],
   "source": [
    "random_cv.fit(X_train,y_train)"
   ]
  },
  {
   "cell_type": "code",
   "execution_count": null,
   "metadata": {},
   "outputs": [],
   "source": [
    "best_random=random_cv.best_estimator_\n",
    "print(best_random)\n",
    "prediction_cv=best_random.predict(X_test)\n",
    "print(confusion_matrix(y_test,prediction_cv))\n",
    "print('Accuracy Score RF:',accuracy_score(y_test,prediction_cv))"
   ]
  },
  {
   "cell_type": "code",
   "execution_count": null,
   "metadata": {},
   "outputs": [],
   "source": [
    "print('Confusion Matrix:')\n",
    "print(confusion_matrix(y_test,prediction_cv))"
   ]
  },
  {
   "cell_type": "code",
   "execution_count": null,
   "metadata": {},
   "outputs": [],
   "source": [
    "importances = best_random.feature_importances_\n",
    "weights = pd.Series(importances,\n",
    "                 index=X.columns.values)\n",
    "weights.sort_values()[-10:].plot(kind = 'barh')"
   ]
  },
  {
   "cell_type": "code",
   "execution_count": null,
   "metadata": {},
   "outputs": [],
   "source": [
    "from xgboost import XGBClassifier\n",
    "xgb_model = XGBClassifier()"
   ]
  },
  {
   "cell_type": "code",
   "execution_count": null,
   "metadata": {},
   "outputs": [],
   "source": [
    "xgb_model.fit(X_train, y_train)"
   ]
  },
  {
   "cell_type": "code",
   "execution_count": null,
   "metadata": {},
   "outputs": [],
   "source": [
    "prediction_xgb = xgb_model.predict(X_test)\n",
    "#print(confusion_matrix(y_test,prediction_xgb))\n",
    "print('Accuracy Score XGB:',accuracy_score(y_test, prediction_xgb))"
   ]
  },
  {
   "cell_type": "code",
   "execution_count": null,
   "metadata": {},
   "outputs": [],
   "source": []
  }
 ],
 "metadata": {
  "kernelspec": {
   "display_name": "Python 3",
   "language": "python",
   "name": "python3"
  },
  "language_info": {
   "codemirror_mode": {
    "name": "ipython",
    "version": 3
   },
   "file_extension": ".py",
   "mimetype": "text/x-python",
   "name": "python",
   "nbconvert_exporter": "python",
   "pygments_lexer": "ipython3",
   "version": "3.8.10"
  }
 },
 "nbformat": 4,
 "nbformat_minor": 4
}
